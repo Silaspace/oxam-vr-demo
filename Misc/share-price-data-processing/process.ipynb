{
 "cells": [
  {
   "cell_type": "code",
   "execution_count": 380,
   "id": "84b31a61-3ccf-4e11-b6d9-3481fddf9e3e",
   "metadata": {},
   "outputs": [],
   "source": [
    "import pandas as pd\n",
    "from math import floor\n",
    "from datetime import datetime\n",
    "from math import isnan"
   ]
  },
  {
   "cell_type": "code",
   "execution_count": 381,
   "id": "a04b7cb7-1a0b-4fda-b848-327ef05dbfd3",
   "metadata": {},
   "outputs": [],
   "source": [
    "dateparse = lambda x: datetime.strptime(x, '%Y-%m-%d')\n",
    "# dateparse = lambda x: datetime.utcfromtimestamp(int(float(x)))"
   ]
  },
  {
   "cell_type": "code",
   "execution_count": 382,
   "id": "37ee7bd9-c58b-43c8-a7d5-9c90296df8a0",
   "metadata": {},
   "outputs": [],
   "source": [
    "def map_range(value, leftMin, leftMax, rightMin, rightMax):\n",
    "    # Figure out how 'wide' each range is\n",
    "    leftSpan = leftMax - leftMin\n",
    "    rightSpan = rightMax - rightMin\n",
    "\n",
    "    # Convert the left range into a 0-1 range (float)\n",
    "    valueScaled = float(value - leftMin) / float(leftSpan)\n",
    "\n",
    "    # Convert the 0-1 range into a value in the right range.\n",
    "    return rightMin + (valueScaled * rightSpan)\n"
   ]
  },
  {
   "cell_type": "code",
   "execution_count": 383,
   "id": "be1215c8-c3b5-46f1-ae5e-291e0f208d5a",
   "metadata": {},
   "outputs": [],
   "source": [
    "df = pd.read_csv(\"price.csv\", parse_dates=['Date'], date_parser=dateparse)"
   ]
  },
  {
   "cell_type": "code",
   "execution_count": 384,
   "id": "139f9c92-968c-4b11-98eb-3f5126e510d7",
   "metadata": {},
   "outputs": [
    {
     "data": {
      "text/html": [
       "<div>\n",
       "<style scoped>\n",
       "    .dataframe tbody tr th:only-of-type {\n",
       "        vertical-align: middle;\n",
       "    }\n",
       "\n",
       "    .dataframe tbody tr th {\n",
       "        vertical-align: top;\n",
       "    }\n",
       "\n",
       "    .dataframe thead th {\n",
       "        text-align: right;\n",
       "    }\n",
       "</style>\n",
       "<table border=\"1\" class=\"dataframe\">\n",
       "  <thead>\n",
       "    <tr style=\"text-align: right;\">\n",
       "      <th></th>\n",
       "      <th>Date</th>\n",
       "      <th>Close</th>\n",
       "    </tr>\n",
       "  </thead>\n",
       "  <tbody>\n",
       "    <tr>\n",
       "      <th>0</th>\n",
       "      <td>2016-01-02</td>\n",
       "      <td>442.36</td>\n",
       "    </tr>\n",
       "    <tr>\n",
       "      <th>1</th>\n",
       "      <td>2016-01-03</td>\n",
       "      <td>442.45</td>\n",
       "    </tr>\n",
       "    <tr>\n",
       "      <th>2</th>\n",
       "      <td>2016-01-04</td>\n",
       "      <td>453.31</td>\n",
       "    </tr>\n",
       "    <tr>\n",
       "      <th>3</th>\n",
       "      <td>2016-01-06</td>\n",
       "      <td>508.64</td>\n",
       "    </tr>\n",
       "    <tr>\n",
       "      <th>4</th>\n",
       "      <td>2016-01-07</td>\n",
       "      <td>484.14</td>\n",
       "    </tr>\n",
       "    <tr>\n",
       "      <th>...</th>\n",
       "      <td>...</td>\n",
       "      <td>...</td>\n",
       "    </tr>\n",
       "    <tr>\n",
       "      <th>2079</th>\n",
       "      <td>2024-11-04</td>\n",
       "      <td>229.20</td>\n",
       "    </tr>\n",
       "    <tr>\n",
       "      <th>2080</th>\n",
       "      <td>2024-12-01</td>\n",
       "      <td>249.30</td>\n",
       "    </tr>\n",
       "    <tr>\n",
       "      <th>2081</th>\n",
       "      <td>2024-12-02</td>\n",
       "      <td>267.40</td>\n",
       "    </tr>\n",
       "    <tr>\n",
       "      <th>2082</th>\n",
       "      <td>2024-12-03</td>\n",
       "      <td>225.50</td>\n",
       "    </tr>\n",
       "    <tr>\n",
       "      <th>2083</th>\n",
       "      <td>2024-12-04</td>\n",
       "      <td>225.40</td>\n",
       "    </tr>\n",
       "  </tbody>\n",
       "</table>\n",
       "<p>2084 rows × 2 columns</p>\n",
       "</div>"
      ],
      "text/plain": [
       "           Date   Close\n",
       "0    2016-01-02  442.36\n",
       "1    2016-01-03  442.45\n",
       "2    2016-01-04  453.31\n",
       "3    2016-01-06  508.64\n",
       "4    2016-01-07  484.14\n",
       "...         ...     ...\n",
       "2079 2024-11-04  229.20\n",
       "2080 2024-12-01  249.30\n",
       "2081 2024-12-02  267.40\n",
       "2082 2024-12-03  225.50\n",
       "2083 2024-12-04  225.40\n",
       "\n",
       "[2084 rows x 2 columns]"
      ]
     },
     "execution_count": 384,
     "metadata": {},
     "output_type": "execute_result"
    }
   ],
   "source": [
    "df"
   ]
  },
  {
   "cell_type": "code",
   "execution_count": 385,
   "id": "a0ead343-95af-4042-a389-b4cd9a51515f",
   "metadata": {},
   "outputs": [],
   "source": [
    "start = min(df[\"Date\"]).timestamp()\n",
    "end = max(df[\"Date\"]).timestamp()\n",
    "# period = 60 * 60 * 24 * 365.25\n",
    "period = 60 * 60 * 24 * 365.25"
   ]
  },
  {
   "cell_type": "code",
   "execution_count": 400,
   "id": "d2f9c91d-3fcc-437b-8d65-4bed6f5b461d",
   "metadata": {},
   "outputs": [],
   "source": [
    "buckets = []\n",
    "curr = start\n",
    "\n",
    "while curr <= end:\n",
    "    buckets.append([curr])\n",
    "    curr += period"
   ]
  },
  {
   "cell_type": "code",
   "execution_count": 401,
   "id": "1d6d785c-21d1-4d8a-867f-581c3a3ab51c",
   "metadata": {},
   "outputs": [
    {
     "data": {
      "text/plain": [
       "[[1451692800.0],\n",
       " [1483250400.0],\n",
       " [1514808000.0],\n",
       " [1546365600.0],\n",
       " [1577923200.0],\n",
       " [1609480800.0],\n",
       " [1641038400.0],\n",
       " [1672596000.0],\n",
       " [1704153600.0]]"
      ]
     },
     "execution_count": 401,
     "metadata": {},
     "output_type": "execute_result"
    }
   ],
   "source": [
    "buckets"
   ]
  },
  {
   "cell_type": "code",
   "execution_count": 402,
   "id": "3b287ff0-f612-46aa-b30b-b8fb211b6f28",
   "metadata": {},
   "outputs": [],
   "source": [
    "\n",
    "\n",
    "# bucket i (zero indexed) starts at (start + i * period)\n",
    "#                         ends at (start + (i + 1) * period)"
   ]
  },
  {
   "cell_type": "code",
   "execution_count": 403,
   "id": "eb8157a0-741d-4bbf-b14e-16cbb41cf35c",
   "metadata": {},
   "outputs": [],
   "source": [
    "num_buckets = floor((end - start) / period) + 1\n",
    "buckets = [[] for _ in range(num_buckets)]\n",
    "points = []\n",
    "\n",
    "X, Y, Z = [], [], []\n",
    "\n",
    "for i, row in enumerate(df.itertuples()):\n",
    "    if i % 10 == 0:\n",
    "        date, price = row[1], row[2]\n",
    "        timestamp = date.timestamp()\n",
    "\n",
    "        belongs_in = floor((timestamp - start) / period)\n",
    "\n",
    "        bucket_min = start + belongs_in * period\n",
    "        bucket_max = start + (belongs_in + 1) * period\n",
    "\n",
    "        time_short = map_range(timestamp, bucket_min, bucket_max, -10, 10) # x axis\n",
    "        # height = map_range(price, -10, 40, 0, 6)                           # y axis\n",
    "        height = map_range(price, 100, 500, 0, 6)\n",
    "        time_long = map_range(belongs_in, 0, num_buckets, -10, 10)         # z axis\n",
    "\n",
    "        # print(time_short, height, time_long)\n",
    "\n",
    "        if isnan(height):\n",
    "            continue\n",
    "\n",
    "        points.append((time_short, time_long, height))\n",
    "\n",
    "        X.append(time_short)\n",
    "        Y.append(height)\n",
    "        Z.append(time_long)"
   ]
  },
  {
   "cell_type": "raw",
   "id": "104280cc-a529-461c-a103-03cc6aff1915",
   "metadata": {},
   "source": [
    "X[:10]"
   ]
  },
  {
   "cell_type": "code",
   "execution_count": 404,
   "id": "04c5320d-9acc-49ac-96d1-32fe3fa26740",
   "metadata": {},
   "outputs": [],
   "source": [
    "from mpl_toolkits import mplot3d"
   ]
  },
  {
   "cell_type": "code",
   "execution_count": 405,
   "id": "249edeae-d00a-4183-89a4-92d579ca8464",
   "metadata": {},
   "outputs": [],
   "source": [
    "import numpy as np\n",
    "import matplotlib.pyplot as plt"
   ]
  },
  {
   "cell_type": "code",
   "execution_count": 406,
   "id": "c806b59f-929e-4d4c-b20e-82c99f6f95b0",
   "metadata": {},
   "outputs": [
    {
     "data": {
      "text/plain": [
       "Text(0.5, 0, 'y')"
      ]
     },
     "execution_count": 406,
     "metadata": {},
     "output_type": "execute_result"
    },
    {
     "data": {
      "image/png": "[encoded data removed]",
      "text/plain": [
       "<Figure size 432x288 with 1 Axes>"
      ]
     },
     "metadata": {
      "needs_background": "light"
     },
     "output_type": "display_data"
    }
   ],
   "source": [
    "fig = plt.figure()\n",
    "ax = plt.axes(projection='3d')\n",
    "ax.view_init(20, 30, 0)\n",
    "ax.scatter3D(X, Z, Y, c=Y)\n",
    "ax.set_xlabel('x')\n",
    "ax.set_ylabel('z')\n",
    "ax.set_zlabel('y')"
   ]
  },
  {
   "cell_type": "code",
   "execution_count": 407,
   "id": "e10068f0-d509-427a-a138-227a9ff6f61e",
   "metadata": {},
   "outputs": [],
   "source": [
    "# df_processed = pd.DataFrame(points, columns=[\"TimeShort\", \"TimeLong\", \"Temp\"])\n",
    "df_processed = pd.DataFrame(points, columns=[\"TimeShort\", \"TimeLong\", \"Price\"])"
   ]
  },
  {
   "cell_type": "code",
   "execution_count": 408,
   "id": "27f813d8-26e8-4bfa-98f5-727df2cff493",
   "metadata": {},
   "outputs": [],
   "source": [
    "df_processed.to_csv(\"price_processed.csv\", index=False)"
   ]
  },
  {
   "cell_type": "code",
   "execution_count": 409,
   "id": "c84c636f-e63c-4f2d-8c57-0da722f9be4a",
   "metadata": {},
   "outputs": [
    {
     "data": {
      "text/html": [
       "<div>\n",
       "<style scoped>\n",
       "    .dataframe tbody tr th:only-of-type {\n",
       "        vertical-align: middle;\n",
       "    }\n",
       "\n",
       "    .dataframe tbody tr th {\n",
       "        vertical-align: top;\n",
       "    }\n",
       "\n",
       "    .dataframe thead th {\n",
       "        text-align: right;\n",
       "    }\n",
       "</style>\n",
       "<table border=\"1\" class=\"dataframe\">\n",
       "  <thead>\n",
       "    <tr style=\"text-align: right;\">\n",
       "      <th></th>\n",
       "      <th>TimeShort</th>\n",
       "      <th>TimeLong</th>\n",
       "      <th>Price</th>\n",
       "    </tr>\n",
       "  </thead>\n",
       "  <tbody>\n",
       "    <tr>\n",
       "      <th>0</th>\n",
       "      <td>-10.000000</td>\n",
       "      <td>-10.000000</td>\n",
       "      <td>5.1354</td>\n",
       "    </tr>\n",
       "    <tr>\n",
       "      <th>1</th>\n",
       "      <td>-9.342916</td>\n",
       "      <td>-10.000000</td>\n",
       "      <td>4.8054</td>\n",
       "    </tr>\n",
       "    <tr>\n",
       "      <th>2</th>\n",
       "      <td>-8.576318</td>\n",
       "      <td>-10.000000</td>\n",
       "      <td>4.9725</td>\n",
       "    </tr>\n",
       "    <tr>\n",
       "      <th>3</th>\n",
       "      <td>-7.535934</td>\n",
       "      <td>-10.000000</td>\n",
       "      <td>4.8558</td>\n",
       "    </tr>\n",
       "    <tr>\n",
       "      <th>4</th>\n",
       "      <td>-6.714579</td>\n",
       "      <td>-10.000000</td>\n",
       "      <td>4.9566</td>\n",
       "    </tr>\n",
       "    <tr>\n",
       "      <th>...</th>\n",
       "      <td>...</td>\n",
       "      <td>...</td>\n",
       "      <td>...</td>\n",
       "    </tr>\n",
       "    <tr>\n",
       "      <th>204</th>\n",
       "      <td>-6.933607</td>\n",
       "      <td>7.777778</td>\n",
       "      <td>2.2530</td>\n",
       "    </tr>\n",
       "    <tr>\n",
       "      <th>205</th>\n",
       "      <td>-5.728953</td>\n",
       "      <td>7.777778</td>\n",
       "      <td>1.6950</td>\n",
       "    </tr>\n",
       "    <tr>\n",
       "      <th>206</th>\n",
       "      <td>-3.429158</td>\n",
       "      <td>7.777778</td>\n",
       "      <td>2.5485</td>\n",
       "    </tr>\n",
       "    <tr>\n",
       "      <th>207</th>\n",
       "      <td>1.718001</td>\n",
       "      <td>7.777778</td>\n",
       "      <td>2.1210</td>\n",
       "    </tr>\n",
       "    <tr>\n",
       "      <th>208</th>\n",
       "      <td>8.288843</td>\n",
       "      <td>7.777778</td>\n",
       "      <td>2.2395</td>\n",
       "    </tr>\n",
       "  </tbody>\n",
       "</table>\n",
       "<p>209 rows × 3 columns</p>\n",
       "</div>"
      ],
      "text/plain": [
       "     TimeShort   TimeLong   Price\n",
       "0   -10.000000 -10.000000  5.1354\n",
       "1    -9.342916 -10.000000  4.8054\n",
       "2    -8.576318 -10.000000  4.9725\n",
       "3    -7.535934 -10.000000  4.8558\n",
       "4    -6.714579 -10.000000  4.9566\n",
       "..         ...        ...     ...\n",
       "204  -6.933607   7.777778  2.2530\n",
       "205  -5.728953   7.777778  1.6950\n",
       "206  -3.429158   7.777778  2.5485\n",
       "207   1.718001   7.777778  2.1210\n",
       "208   8.288843   7.777778  2.2395\n",
       "\n",
       "[209 rows x 3 columns]"
      ]
     },
     "execution_count": 409,
     "metadata": {},
     "output_type": "execute_result"
    }
   ],
   "source": [
    "df_processed"
   ]
  },
  {
   "cell_type": "code",
   "execution_count": 398,
   "id": "1e1baef9-4032-4c84-94aa-bb4f90f68389",
   "metadata": {},
   "outputs": [],
   "source": [
    "null_data = df_processed[df_processed.isnull().any(axis=1)]"
   ]
  },
  {
   "cell_type": "code",
   "execution_count": 399,
   "id": "163ec30f-2c06-469b-a5ae-18940fe90c27",
   "metadata": {},
   "outputs": [
    {
     "data": {
      "text/html": [
       "<div>\n",
       "<style scoped>\n",
       "    .dataframe tbody tr th:only-of-type {\n",
       "        vertical-align: middle;\n",
       "    }\n",
       "\n",
       "    .dataframe tbody tr th {\n",
       "        vertical-align: top;\n",
       "    }\n",
       "\n",
       "    .dataframe thead th {\n",
       "        text-align: right;\n",
       "    }\n",
       "</style>\n",
       "<table border=\"1\" class=\"dataframe\">\n",
       "  <thead>\n",
       "    <tr style=\"text-align: right;\">\n",
       "      <th></th>\n",
       "      <th>TimeShort</th>\n",
       "      <th>TimeLong</th>\n",
       "      <th>Price</th>\n",
       "    </tr>\n",
       "  </thead>\n",
       "  <tbody>\n",
       "  </tbody>\n",
       "</table>\n",
       "</div>"
      ],
      "text/plain": [
       "Empty DataFrame\n",
       "Columns: [TimeShort, TimeLong, Price]\n",
       "Index: []"
      ]
     },
     "execution_count": 399,
     "metadata": {},
     "output_type": "execute_result"
    }
   ],
   "source": [
    "null_data"
   ]
  },
  {
   "cell_type": "code",
   "execution_count": null,
   "id": "fdcb15e2-978b-44a1-9d90-57cf32c4239f",
   "metadata": {},
   "outputs": [],
   "source": []
  },
  {
   "cell_type": "code",
   "execution_count": null,
   "id": "21d8a4e1-09f6-4e4f-8de9-fb26f295c5ad",
   "metadata": {},
   "outputs": [],
   "source": []
  }
 ],
 "metadata": {
  "kernelspec": {
   "display_name": "Python 3 (ipykernel)",
   "language": "python",
   "name": "python3"
  },
  "language_info": {
   "codemirror_mode": {
    "name": "ipython",
    "version": 3
   },
   "file_extension": ".py",
   "mimetype": "text/x-python",
   "name": "python",
   "nbconvert_exporter": "python",
   "pygments_lexer": "ipython3",
   "version": "3.9.13"
  }
 },
 "nbformat": 4,
 "nbformat_minor": 5
}
