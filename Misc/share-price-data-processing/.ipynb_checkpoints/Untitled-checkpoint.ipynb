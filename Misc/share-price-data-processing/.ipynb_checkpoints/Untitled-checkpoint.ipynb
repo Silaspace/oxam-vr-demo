{
 "cells": [
  {
   "cell_type": "code",
   "execution_count": 297,
   "id": "84b31a61-3ccf-4e11-b6d9-3481fddf9e3e",
   "metadata": {},
   "outputs": [],
   "source": [
    "import pandas as pd\n",
    "from math import floor\n",
    "from datetime import datetime\n",
    "from math import isnan"
   ]
  },
  {
   "cell_type": "code",
   "execution_count": 298,
   "id": "a04b7cb7-1a0b-4fda-b848-327ef05dbfd3",
   "metadata": {},
   "outputs": [],
   "source": [
    "dateparse = lambda x: datetime.strptime(x, '%Y-%m-%d')\n",
    "# dateparse = lambda x: datetime.utcfromtimestamp(int(float(x)))"
   ]
  },
  {
   "cell_type": "code",
   "execution_count": 299,
   "id": "37ee7bd9-c58b-43c8-a7d5-9c90296df8a0",
   "metadata": {},
   "outputs": [],
   "source": [
    "def map_range(value, leftMin, leftMax, rightMin, rightMax):\n",
    "    # Figure out how 'wide' each range is\n",
    "    leftSpan = leftMax - leftMin\n",
    "    rightSpan = rightMax - rightMin\n",
    "\n",
    "    # Convert the left range into a 0-1 range (float)\n",
    "    valueScaled = float(value - leftMin) / float(leftSpan)\n",
    "\n",
    "    # Convert the 0-1 range into a value in the right range.\n",
    "    return rightMin + (valueScaled * rightSpan)\n"
   ]
  },
  {
   "cell_type": "code",
   "execution_count": 300,
   "id": "be1215c8-c3b5-46f1-ae5e-291e0f208d5a",
   "metadata": {},
   "outputs": [],
   "source": [
    "df = pd.read_csv(\"temp.csv\", parse_dates=['Date'], date_parser=dateparse)"
   ]
  },
  {
   "cell_type": "code",
   "execution_count": 301,
   "id": "a0ead343-95af-4042-a389-b4cd9a51515f",
   "metadata": {},
   "outputs": [],
   "source": [
    "start = min(df[\"Date\"]).timestamp()\n",
    "end = max(df[\"Date\"]).timestamp()\n",
    "period = 60 * 60 * 24 * 365.25"
   ]
  },
  {
   "cell_type": "code",
   "execution_count": 302,
   "id": "d2f9c91d-3fcc-437b-8d65-4bed6f5b461d",
   "metadata": {},
   "outputs": [],
   "source": [
    "buckets = []\n",
    "curr = start\n",
    "\n",
    "while curr <= end:\n",
    "    buckets.append([curr])\n",
    "    curr += period"
   ]
  },
  {
   "cell_type": "code",
   "execution_count": 303,
   "id": "1d6d785c-21d1-4d8a-867f-581c3a3ab51c",
   "metadata": {},
   "outputs": [
    {
     "data": {
      "text/plain": [
       "[[631152000.0],\n",
       " [662709600.0],\n",
       " [694267200.0],\n",
       " [725824800.0],\n",
       " [757382400.0],\n",
       " [788940000.0],\n",
       " [820497600.0],\n",
       " [852055200.0],\n",
       " [883612800.0],\n",
       " [915170400.0],\n",
       " [946728000.0],\n",
       " [978285600.0],\n",
       " [1009843200.0],\n",
       " [1041400800.0],\n",
       " [1072958400.0],\n",
       " [1104516000.0],\n",
       " [1136073600.0],\n",
       " [1167631200.0],\n",
       " [1199188800.0],\n",
       " [1230746400.0],\n",
       " [1262304000.0],\n",
       " [1293861600.0],\n",
       " [1325419200.0],\n",
       " [1356976800.0],\n",
       " [1388534400.0],\n",
       " [1420092000.0],\n",
       " [1451649600.0],\n",
       " [1483207200.0],\n",
       " [1514764800.0],\n",
       " [1546322400.0],\n",
       " [1577880000.0],\n",
       " [1609437600.0],\n",
       " [1640995200.0],\n",
       " [1672552800.0]]"
      ]
     },
     "execution_count": 303,
     "metadata": {},
     "output_type": "execute_result"
    }
   ],
   "source": [
    "buckets"
   ]
  },
  {
   "cell_type": "code",
   "execution_count": 304,
   "id": "3b287ff0-f612-46aa-b30b-b8fb211b6f28",
   "metadata": {},
   "outputs": [],
   "source": [
    "num_buckets = floor((end - start) / period) + 1\n",
    "buckets = [[] for _ in range(num_buckets)]\n",
    "points = []\n",
    "\n",
    "X, Y, Z = [], [], []\n",
    "\n",
    "# bucket i (zero indexed) starts at (start + i * period)\n",
    "#                         ends at (start + (i + 1) * period)"
   ]
  },
  {
   "cell_type": "code",
   "execution_count": 305,
   "id": "eb8157a0-741d-4bbf-b14e-16cbb41cf35c",
   "metadata": {},
   "outputs": [],
   "source": [
    "for i, row in enumerate(df.itertuples()):\n",
    "    if i % 10 == 0:\n",
    "        date, price = row[1], row[2]\n",
    "        timestamp = date.timestamp()\n",
    "\n",
    "        belongs_in = floor((timestamp - start) / period)\n",
    "\n",
    "        bucket_min = start + belongs_in * period\n",
    "        bucket_max = start + (belongs_in + 1) * period\n",
    "\n",
    "        time_short = map_range(timestamp, bucket_min, bucket_max, -10, 10) # x axis\n",
    "        height = map_range(price, -10, 40, 0, 6)                           # y axis\n",
    "        time_long = map_range(belongs_in, 0, num_buckets, -10, 10)         # z axis\n",
    "\n",
    "        if isnan(height):\n",
    "            continue\n",
    "\n",
    "        points.append((time_short, time_long, height))\n",
    "\n",
    "        X.append(time_short)\n",
    "        Y.append(height)\n",
    "        Z.append(time_long)"
   ]
  },
  {
   "cell_type": "raw",
   "id": "104280cc-a529-461c-a103-03cc6aff1915",
   "metadata": {},
   "source": [
    "X[:10]"
   ]
  },
  {
   "cell_type": "code",
   "execution_count": 306,
   "id": "04c5320d-9acc-49ac-96d1-32fe3fa26740",
   "metadata": {},
   "outputs": [],
   "source": [
    "from mpl_toolkits import mplot3d"
   ]
  },
  {
   "cell_type": "code",
   "execution_count": 307,
   "id": "249edeae-d00a-4183-89a4-92d579ca8464",
   "metadata": {},
   "outputs": [],
   "source": [
    "import numpy as np\n",
    "import matplotlib.pyplot as plt"
   ]
  },
  {
   "cell_type": "code",
   "execution_count": 308,
   "id": "c806b59f-929e-4d4c-b20e-82c99f6f95b0",
   "metadata": {},
   "outputs": [
    {
     "data": {
      "text/plain": [
       "Text(0.5, 0, 'y')"
      ]
     },
     "execution_count": 308,
     "metadata": {},
     "output_type": "execute_result"
    },
    {
     "data": {
      "image/png": "[encoded data removed]",
      "text/plain": [
       "<Figure size 432x288 with 1 Axes>"
      ]
     },
     "metadata": {
      "needs_background": "light"
     },
     "output_type": "display_data"
    }
   ],
   "source": [
    "fig = plt.figure()\n",
    "ax = plt.axes(projection='3d')\n",
    "ax.view_init(45, 360, 0)\n",
    "ax.scatter3D(X, Z, Y, c=Y)\n",
    "ax.set_xlabel('x')\n",
    "ax.set_ylabel('z')\n",
    "ax.set_zlabel('y')"
   ]
  },
  {
   "cell_type": "code",
   "execution_count": 309,
   "id": "e10068f0-d509-427a-a138-227a9ff6f61e",
   "metadata": {},
   "outputs": [],
   "source": [
    "df_processed = pd.DataFrame(points, columns=[\"TimeShort\", \"TimeLong\", \"Temp\"])"
   ]
  },
  {
   "cell_type": "code",
   "execution_count": 310,
   "id": "27f813d8-26e8-4bfa-98f5-727df2cff493",
   "metadata": {},
   "outputs": [],
   "source": [
    "df_processed.to_csv(\"temp_processed.csv\", index=False)"
   ]
  },
  {
   "cell_type": "code",
   "execution_count": 311,
   "id": "c84c636f-e63c-4f2d-8c57-0da722f9be4a",
   "metadata": {},
   "outputs": [
    {
     "data": {
      "text/html": [
       "<div>\n",
       "<style scoped>\n",
       "    .dataframe tbody tr th:only-of-type {\n",
       "        vertical-align: middle;\n",
       "    }\n",
       "\n",
       "    .dataframe tbody tr th {\n",
       "        vertical-align: top;\n",
       "    }\n",
       "\n",
       "    .dataframe thead th {\n",
       "        text-align: right;\n",
       "    }\n",
       "</style>\n",
       "<table border=\"1\" class=\"dataframe\">\n",
       "  <thead>\n",
       "    <tr style=\"text-align: right;\">\n",
       "      <th></th>\n",
       "      <th>TimeShort</th>\n",
       "      <th>TimeLong</th>\n",
       "      <th>Temp</th>\n",
       "    </tr>\n",
       "  </thead>\n",
       "  <tbody>\n",
       "    <tr>\n",
       "      <th>0</th>\n",
       "      <td>-10.000000</td>\n",
       "      <td>-10.000000</td>\n",
       "      <td>1.920</td>\n",
       "    </tr>\n",
       "    <tr>\n",
       "      <th>1</th>\n",
       "      <td>-9.452430</td>\n",
       "      <td>-10.000000</td>\n",
       "      <td>2.640</td>\n",
       "    </tr>\n",
       "    <tr>\n",
       "      <th>2</th>\n",
       "      <td>-8.904860</td>\n",
       "      <td>-10.000000</td>\n",
       "      <td>2.712</td>\n",
       "    </tr>\n",
       "    <tr>\n",
       "      <th>3</th>\n",
       "      <td>-8.357290</td>\n",
       "      <td>-10.000000</td>\n",
       "      <td>2.280</td>\n",
       "    </tr>\n",
       "    <tr>\n",
       "      <th>4</th>\n",
       "      <td>-7.809719</td>\n",
       "      <td>-10.000000</td>\n",
       "      <td>2.688</td>\n",
       "    </tr>\n",
       "    <tr>\n",
       "      <th>...</th>\n",
       "      <td>...</td>\n",
       "      <td>...</td>\n",
       "      <td>...</td>\n",
       "    </tr>\n",
       "    <tr>\n",
       "      <th>1237</th>\n",
       "      <td>7.344285</td>\n",
       "      <td>9.411765</td>\n",
       "      <td>2.544</td>\n",
       "    </tr>\n",
       "    <tr>\n",
       "      <th>1238</th>\n",
       "      <td>7.891855</td>\n",
       "      <td>9.411765</td>\n",
       "      <td>2.268</td>\n",
       "    </tr>\n",
       "    <tr>\n",
       "      <th>1239</th>\n",
       "      <td>8.439425</td>\n",
       "      <td>9.411765</td>\n",
       "      <td>2.136</td>\n",
       "    </tr>\n",
       "    <tr>\n",
       "      <th>1240</th>\n",
       "      <td>8.986995</td>\n",
       "      <td>9.411765</td>\n",
       "      <td>2.232</td>\n",
       "    </tr>\n",
       "    <tr>\n",
       "      <th>1241</th>\n",
       "      <td>9.534565</td>\n",
       "      <td>9.411765</td>\n",
       "      <td>2.832</td>\n",
       "    </tr>\n",
       "  </tbody>\n",
       "</table>\n",
       "<p>1242 rows × 3 columns</p>\n",
       "</div>"
      ],
      "text/plain": [
       "      TimeShort   TimeLong   Temp\n",
       "0    -10.000000 -10.000000  1.920\n",
       "1     -9.452430 -10.000000  2.640\n",
       "2     -8.904860 -10.000000  2.712\n",
       "3     -8.357290 -10.000000  2.280\n",
       "4     -7.809719 -10.000000  2.688\n",
       "...         ...        ...    ...\n",
       "1237   7.344285   9.411765  2.544\n",
       "1238   7.891855   9.411765  2.268\n",
       "1239   8.439425   9.411765  2.136\n",
       "1240   8.986995   9.411765  2.232\n",
       "1241   9.534565   9.411765  2.832\n",
       "\n",
       "[1242 rows x 3 columns]"
      ]
     },
     "execution_count": 311,
     "metadata": {},
     "output_type": "execute_result"
    }
   ],
   "source": [
    "df_processed"
   ]
  },
  {
   "cell_type": "code",
   "execution_count": 312,
   "id": "1e1baef9-4032-4c84-94aa-bb4f90f68389",
   "metadata": {},
   "outputs": [],
   "source": [
    "null_data = df_processed[df_processed.isnull().any(axis=1)]"
   ]
  },
  {
   "cell_type": "code",
   "execution_count": 313,
   "id": "163ec30f-2c06-469b-a5ae-18940fe90c27",
   "metadata": {},
   "outputs": [
    {
     "data": {
      "text/html": [
       "<div>\n",
       "<style scoped>\n",
       "    .dataframe tbody tr th:only-of-type {\n",
       "        vertical-align: middle;\n",
       "    }\n",
       "\n",
       "    .dataframe tbody tr th {\n",
       "        vertical-align: top;\n",
       "    }\n",
       "\n",
       "    .dataframe thead th {\n",
       "        text-align: right;\n",
       "    }\n",
       "</style>\n",
       "<table border=\"1\" class=\"dataframe\">\n",
       "  <thead>\n",
       "    <tr style=\"text-align: right;\">\n",
       "      <th></th>\n",
       "      <th>TimeShort</th>\n",
       "      <th>TimeLong</th>\n",
       "      <th>Temp</th>\n",
       "    </tr>\n",
       "  </thead>\n",
       "  <tbody>\n",
       "  </tbody>\n",
       "</table>\n",
       "</div>"
      ],
      "text/plain": [
       "Empty DataFrame\n",
       "Columns: [TimeShort, TimeLong, Temp]\n",
       "Index: []"
      ]
     },
     "execution_count": 313,
     "metadata": {},
     "output_type": "execute_result"
    }
   ],
   "source": [
    "null_data"
   ]
  },
  {
   "cell_type": "code",
   "execution_count": null,
   "id": "fdcb15e2-978b-44a1-9d90-57cf32c4239f",
   "metadata": {},
   "outputs": [],
   "source": []
  }
 ],
 "metadata": {
  "kernelspec": {
   "display_name": "Python 3 (ipykernel)",
   "language": "python",
   "name": "python3"
  },
  "language_info": {
   "codemirror_mode": {
    "name": "ipython",
    "version": 3
   },
   "file_extension": ".py",
   "mimetype": "text/x-python",
   "name": "python",
   "nbconvert_exporter": "python",
   "pygments_lexer": "ipython3",
   "version": "3.9.13"
  }
 },
 "nbformat": 4,
 "nbformat_minor": 5
}
